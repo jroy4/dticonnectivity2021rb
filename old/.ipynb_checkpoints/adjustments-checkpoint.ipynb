{
 "cells": [
  {
   "cell_type": "markdown",
   "id": "47667072-862d-4ef6-9456-6ec8bc590e0c",
   "metadata": {},
   "source": [
    "Joy November 23, 2021:\n",
    "\n",
    "[DEPRECATED]\n",
    "\n",
    "NOTE: Below is adjusting data by age and sex. Should no longer be needed. Leaving in directory for reference"
   ]
  },
  {
   "cell_type": "code",
   "execution_count": null,
   "id": "9dc68fda-2ad5-4ae8-bf56-e03469c3c644",
   "metadata": {},
   "outputs": [],
   "source": [
    "import os\n",
    "import numpy as np\n",
    "import csv\n",
    "import re\n",
    "from matplotlib import pyplot as plt\n",
    "import theano.tensor as T\n",
    "import pandas as pd\n",
    "\n",
    "from sklearn import linear_model"
   ]
  },
  {
   "cell_type": "code",
   "execution_count": null,
   "id": "1994b2f4-e35f-405f-bd53-37f84d8b1b97",
   "metadata": {},
   "outputs": [],
   "source": [
    "pdata = pd.read_csv('/data/Reback-DTI/resources/RF_ageStrat.csv')\n",
    "pdata.head()"
   ]
  },
  {
   "cell_type": "code",
   "execution_count": null,
   "id": "39ffc436-dd08-46d8-9955-c3f0ab45c7b5",
   "metadata": {},
   "outputs": [],
   "source": [
    "metrics = pdata.columns[3:210]"
   ]
  },
  {
   "cell_type": "code",
   "execution_count": null,
   "id": "fdf89842-06a0-4b18-9878-128185f26caa",
   "metadata": {},
   "outputs": [],
   "source": []
  },
  {
   "cell_type": "code",
   "execution_count": null,
   "id": "22b9e122-5ee0-4f03-9639-2cd342867fbc",
   "metadata": {},
   "outputs": [],
   "source": [
    "#Age adjust FAs before and after harmonization\n",
    "\n",
    "for metric in metrics:\n",
    "    preadjust = pdata.dropna(subset=[metric, 'Age_y'])\n",
    "    X = preadjust.loc[:, ['Age_y', 'Sex']]\n",
    "    Y0 = preadjust[metric]\n",
    "\n",
    "    reg0 = linear_model.Ridge(alpha=0.4).fit(X,Y0)\n",
    "    res0 = Y0 - reg0.predict(X)\n",
    "\n",
    "    preadjust[metric] = res0\n",
    "\n",
    "    pdata.update(preadjust, overwrite=True)\n"
   ]
  },
  {
   "cell_type": "code",
   "execution_count": null,
   "id": "fe8cd7b2-db87-4efb-8a82-679a3abea7d6",
   "metadata": {},
   "outputs": [],
   "source": [
    "pdata"
   ]
  },
  {
   "cell_type": "code",
   "execution_count": null,
   "id": "8470a4cc-48bf-49e9-b198-7fed3b141787",
   "metadata": {},
   "outputs": [],
   "source": []
  },
  {
   "cell_type": "code",
   "execution_count": null,
   "id": "2fd28bd9-a097-441d-9da4-70fa32d35983",
   "metadata": {},
   "outputs": [],
   "source": [
    "dataAge0_1 = pdata[(pdata['Age_y'] >= 0) & (pdata['Age_y'] < 1)]\n",
    "dataAge1_5 = pdata[(pdata['Age_y'] >= 1) & (pdata['Age_y'] < 5)]\n",
    "dataAge5_  = pdata[(pdata['Age_y'] >= 5)]\n",
    "dataAge1_  = pdata[(pdata['Age_y'] >= 1)]\n",
    "\n",
    "dataAge0_5 = pdata[(pdata['Age_y'] >= 0) & (pdata['Age_y'] <= 5)]\n",
    "\n",
    "agesexadjusted_path = '/data/Reback-DTI/resources/strats/Eddy_corrected/agesexadjusted/'\n",
    "ageallages_dir = os.path.join(agesexadjusted_path, 'all_ages')\n",
    "age0_1_dir = os.path.join(agesexadjusted_path, 'ages0_1')\n",
    "age1_5_dir = os.path.join(agesexadjusted_path, 'ages1_5')\n",
    "age5_dir = os.path.join(agesexadjusted_path, 'ages5_')\n",
    "age1_dir = os.path.join(agesexadjusted_path, 'ages1_')\n",
    "age0_5_dir = os.path.join(agesexadjusted_path, 'ages0_5')\n",
    "if not os.path.exists(agesexadjusted_path):\n",
    "    os.makedirs(agesexadjusted_path)\n",
    "if not os.path.exists(ageallages_dir):\n",
    "    os.makedirs(ageallages_dir)\n",
    "if not os.path.exists(age0_1_dir):\n",
    "    os.makedirs(age0_1_dir)\n",
    "if not os.path.exists(age1_5_dir):\n",
    "    os.makedirs(age1_5_dir)\n",
    "if not os.path.exists(age5_dir):\n",
    "    os.makedirs(age5_dir)\n",
    "if not os.path.exists(age1_dir):\n",
    "    os.makedirs(age1_dir)\n",
    "if not os.path.exists(age0_5_dir):\n",
    "    os.makedirs(age0_5_dir)\n",
    "\n",
    "pdata.to_csv(os.path.join(ageallages_dir, 'all_ages.csv'), index=False, sep=',')\n",
    "dataAge0_1.to_csv(os.path.join(age0_1_dir, 'ages0_1.csv'), index=True, sep=',')\n",
    "dataAge1_5.to_csv(os.path.join(age1_5_dir, 'ages1_5.csv'), index=True, sep=',')\n",
    "dataAge5_.to_csv(os.path.join(age5_dir, 'ages5_.csv'), index=True, sep=',')\n",
    "dataAge1_.to_csv(os.path.join(age1_dir, 'ages1_.csv'), index=True, sep=',')\n",
    "dataAge0_5.to_csv(os.path.join(age0_5_dir, 'ages0_5.csv'), index=True, sep=',')"
   ]
  },
  {
   "cell_type": "code",
   "execution_count": null,
   "id": "3ed796e8-dd84-4468-a222-7d5e34d885ac",
   "metadata": {},
   "outputs": [],
   "source": []
  }
 ],
 "metadata": {
  "kernelspec": {
   "display_name": "Python 3 (ipykernel)",
   "language": "python",
   "name": "python3"
  },
  "language_info": {
   "codemirror_mode": {
    "name": "ipython",
    "version": 3
   },
   "file_extension": ".py",
   "mimetype": "text/x-python",
   "name": "python",
   "nbconvert_exporter": "python",
   "pygments_lexer": "ipython3",
   "version": "3.8.13"
  }
 },
 "nbformat": 4,
 "nbformat_minor": 5
}
