{
 "cells": [
  {
   "cell_type": "code",
   "execution_count": null,
   "id": "d4004495-cb22-4795-8c0d-6901aa90b941",
   "metadata": {},
   "outputs": [],
   "source": [
    "import numpy as np\n",
    "import csv\n",
    "import re\n",
    "import os\n",
    "from matplotlib import pyplot as plt\n",
    "import scipy.stats as stats\n",
    "from IPython.core.pylabtools import figsize\n",
    "from nipy import load_image, save_image\n",
    "from nipy.core.api import Image\n",
    "import pymc3 as pm\n",
    "import theano.tensor as T\n",
    "import pandas as pd\n",
    "import seaborn as sns\n",
    "from matplotlib.ticker import AutoMinorLocator\n"
   ]
  },
  {
   "cell_type": "code",
   "execution_count": null,
   "id": "086cf376-5a26-4879-ad24-387de595b255",
   "metadata": {},
   "outputs": [],
   "source": [
    "def getData(src):\n",
    "    pdata = pd.read_csv(src)\n",
    "    pdata['id'] = pdata['StudyID'].map(str) + '_' + pdata['MR_num'].map(str) + '_' + pdata['Scan_num'].map(str)\n",
    "    #place_holder for future, won't currently delete anything probably\n",
    "    pdata = pdata.drop_duplicates(subset='id')  \n",
    "    pdata.head()\n",
    "    \n",
    "    #To make plot labels fit better\n",
    "    pdata.columns = pdata.columns.str.replace(r\"Cingulum_Parahippocampal\", \"CNGLM_PRHP\")\n",
    "    pdata.columns = pdata.columns.str.replace(r\"Corpus_Callosum_Body\", \"CCBody\")\n",
    "    pdata.columns = pdata.columns.str.replace(r\"Corticospinal_Tract\", \"CST\")\n",
    "    pdata.columns = pdata.columns.str.replace(r\"Inferior_Fronto_Occipital_Fasciculus\", \"IFOF\")\n",
    "    pdata.columns = pdata.columns.str.replace(r\"Inferior_Longitudinal_Fasciculus\", \"IFL\")\n",
    "    return pdata"
   ]
  },
  {
   "cell_type": "code",
   "execution_count": null,
   "id": "66e70e89-ce36-4d41-853a-b9430a794711",
   "metadata": {},
   "outputs": [],
   "source": [
    "def getVols(pdata):\n",
    "    #filter only tract volumes\n",
    "    tract_volumes = re.compile(r'[.]volume\\(mm\\^3\\)$')\n",
    "    filtered = list(filter(tract_volumes.search, pdata.columns))\n",
    "    #print(filtered)\n",
    "\n",
    "    ### USE MELT TO CONVERT FROM WIDE TO LONG FORM\n",
    "    df_vol = pd.melt(pdata, id_vars=['id', outcome], value_vars=filtered, var_name='Tract', value_name='Volume') \n",
    "    df_vol['Tract'] = df_vol['Tract'].str.strip('.volume(mm^3)')\n",
    "    df_vol = df_vol.dropna()\n",
    "    df_vol.head()\n",
    "    return df_vol"
   ]
  },
  {
   "cell_type": "code",
   "execution_count": null,
   "id": "3d601ea9-9571-407a-a89e-df4c7943f30f",
   "metadata": {},
   "outputs": [],
   "source": [
    "def getMeanLengths(pdata):\n",
    "    #filter only tract length \n",
    "    tract_lens = re.compile(r'[.]mean_length\\(mm\\)$')\n",
    "    filtered = list(filter(tract_lens.search, pdata.columns))\n",
    "    #print(filtered)\n",
    "\n",
    "    ### USE MELT TO CONVERT FROM WIDE TO LONG FORM\n",
    "    df_len = pd.melt(pdata, id_vars=['id', outcome], value_vars=filtered, var_name='Tract', value_name='Length') \n",
    "    df_len['Tract'] = df_len['Tract'].str.strip('.mean_length(mm)')\n",
    "    df_len = df_len.dropna()\n",
    "    df_len.head()\n",
    "    return df_len"
   ]
  },
  {
   "cell_type": "code",
   "execution_count": null,
   "id": "f39c9c6c-f10e-4e0a-bd66-f961b887a6ab",
   "metadata": {},
   "outputs": [],
   "source": [
    "def getFA(pdata):\n",
    "    #filter only tract FA \n",
    "    tract_fa= re.compile(r'[.]fa$')\n",
    "    filtered = list(filter(tract_fa.search, pdata.columns))\n",
    "    #print(filtered)\n",
    "\n",
    "    ### USE MELT TO CONVERT FROM WIDE TO LONG FORM\n",
    "    df_fa = pd.melt(pdata, id_vars=['id', outcome], value_vars=filtered, var_name='Tract', value_name='FA') \n",
    "    df_fa['Tract'] = df_fa['Tract'].str.strip('.fa')\n",
    "    df_fa = df_fa.dropna()\n",
    "    df_fa.head()\n",
    "    return df_fa "
   ]
  },
  {
   "cell_type": "code",
   "execution_count": null,
   "id": "a6cebd6f-0f48-417e-b7f5-fbe776c3985a",
   "metadata": {},
   "outputs": [],
   "source": [
    "pdata = getData('/data/Reback-DTI/resources/stats/Eddy_corrected/Batch3/Output_dir/strats/all_ages/all_ages.csv')\n",
    "getFA(pdata)"
   ]
  },
  {
   "cell_type": "code",
   "execution_count": null,
   "id": "b6062673-1d5d-4122-9427-bbe6ddf3aab8",
   "metadata": {},
   "outputs": [],
   "source": [
    "def getRD(pdata):\n",
    "    #filter only tract RD \n",
    "    tract_rd = re.compile(r'[.]rd$')\n",
    "    filtered = list(filter(tract_rd.search, pdata.columns))\n",
    "    #print(filtered)\n",
    "\n",
    "    ### USE MELT TO CONVERT FROM WIDE TO LONG FORM\n",
    "    df_rd = pd.melt(pdata, id_vars=['id', outcome], value_vars=filtered, var_name='Tract', value_name='RD') \n",
    "    df_rd['Tract'] = df_rd['Tract'].str.strip('.rd')\n",
    "    df_rd = df_rd.dropna()\n",
    "    df_rd.head()\n",
    "    return df_rd"
   ]
  },
  {
   "cell_type": "code",
   "execution_count": null,
   "id": "44520e02-65b5-433d-aa60-e4291c566534",
   "metadata": {},
   "outputs": [],
   "source": [
    "def getMD(pdata):\n",
    "    #filter only tract MD \n",
    "    tract_md = re.compile(r'[.]md$')\n",
    "    filtered = list(filter(tract_md.search, pdata.columns))\n",
    "    #print(filtered)\n",
    "\n",
    "    ### USE MELT TO CONVERT FROM WIDE TO LONG FORM\n",
    "    df_md = pd.melt(pdata, id_vars=['id', outcome], value_vars=filtered, var_name='Tract', value_name='MD') \n",
    "    df_md['Tract'] = df_md['Tract'].str.strip('.md')\n",
    "    df_md = df_md.dropna()\n",
    "    df_md.head()\n",
    "    return df_md"
   ]
  },
  {
   "cell_type": "code",
   "execution_count": null,
   "id": "7a580de0-42e3-43dd-89b4-59ba47ffef75",
   "metadata": {},
   "outputs": [],
   "source": [
    "def plotViolins(src, save_dir, df_fa, df_rd, df_md, df_vol, df_len):\n",
    "    plt.style.use('ggplot')\n",
    "    fig = plt.figure(figsize=(16, 16))\n",
    "\n",
    "    plt.subplot(511) \n",
    "    ax1 = sns.violinplot(x='Tract', y='FA', data=df_fa, hue=outcome, split=True)\n",
    "    ax1.minorticks_on()\n",
    "    ax1.xaxis.set_minor_locator(AutoMinorLocator(2))\n",
    "    ax1.grid(which='minor', axis='x', linewidth=1)\n",
    "\n",
    "    plt.subplot(512) \n",
    "    ax1 = sns.violinplot(x='Tract', y='RD', data=df_rd, hue=outcome, split=True)\n",
    "    ax1.minorticks_on()\n",
    "    ax1.xaxis.set_minor_locator(AutoMinorLocator(2))\n",
    "    ax1.grid(which='minor', axis='x', linewidth=1)\n",
    "\n",
    "    plt.subplot(513) \n",
    "    ax1 = sns.violinplot(x='Tract', y='MD', data=df_md, hue=outcome, split=True)\n",
    "    ax1.minorticks_on()\n",
    "    ax1.xaxis.set_minor_locator(AutoMinorLocator(2))\n",
    "    ax1.grid(which='minor', axis='x', linewidth=1)\n",
    "\n",
    "    plt.subplot(514) \n",
    "    ax1 = sns.violinplot(x='Tract', y='Volume', data=df_vol, hue=outcome, split=True)\n",
    "    ax1.minorticks_on()\n",
    "    ax1.xaxis.set_minor_locator(AutoMinorLocator(2))\n",
    "    ax1.grid(which='minor', axis='x', linewidth=1)\n",
    "\n",
    "    plt.subplot(515) \n",
    "    ax1 = sns.violinplot(x='Tract', y='Length', data=df_len, hue=outcome, split=True)\n",
    "    ax1.minorticks_on()\n",
    "    ax1.xaxis.set_minor_locator(AutoMinorLocator(2))\n",
    "    ax1.grid(which='minor', axis='x', linewidth=1)\n",
    "\n",
    "    figure_name = 'violins' + '_' + outcome\n",
    "    figure_ext = '.png'\n",
    "    plt.savefig(os.path.join(save_dir + figure_name + figure_ext))"
   ]
  },
  {
   "cell_type": "markdown",
   "id": "e8cf28f2-e795-4c6f-820c-5cac8ee0c221",
   "metadata": {},
   "source": [
    "Note to Joy: \n",
    "\n",
    "Below is used to graph the covariates. Currently commented out because I don't need it running all the time. Especially when I 'Run All' cells"
   ]
  },
  {
   "cell_type": "code",
   "execution_count": null,
   "id": "604efc3e-1d86-4cee-8202-cea0fadad04a",
   "metadata": {},
   "outputs": [],
   "source": [
    "def getAges(pdata):\n",
    "    #filter only tract volumes\n",
    "    tract_ages = re.compile(r'[.]Age_y')\n",
    "    filtered = list(filter(tract_ages.search, pdata.columns))\n",
    "    #print(filtered)\n",
    "    pdata1 = pdata\n",
    "    pdata1[\"All\"] = 'All'\n",
    "    df_age = pdata1[['id','Age_y','All',outcome]]\n",
    "    df_age = df_age.dropna()\n",
    "    df_age.head()\n",
    "    return df_age"
   ]
  },
  {
   "cell_type": "code",
   "execution_count": null,
   "id": "337f3932-4bab-4ca5-b731-e0cb4f13f343",
   "metadata": {},
   "outputs": [],
   "source": [
    "def getSexes(pdata):\n",
    "    #filter only tract volumes\n",
    "    tract_sex = re.compile(r'[.]Sex')\n",
    "    filtered = list(filter(tract_sex.search, pdata.columns))\n",
    "    #print(filtered)\n",
    "    pdata1 = pdata\n",
    "    pdata1[\"All\"] = 'All'\n",
    "    df_sex = pdata1[['id','Sex','All',outcome]]\n",
    "    df_sex = df_sex.dropna()\n",
    "    df_sex.head()\n",
    "    return df_sex"
   ]
  },
  {
   "cell_type": "code",
   "execution_count": null,
   "id": "f0df3dca-4ab2-45b3-b5e9-478b026cc31b",
   "metadata": {},
   "outputs": [],
   "source": [
    "def plotCovariates(src, save_dir, df_age, df_sex):\n",
    "    plt.style.use('ggplot')\n",
    "    fig = plt.figure(figsize=(9, 9))\n",
    "\n",
    "    plt.subplot(311) \n",
    "    ax1 = sns.violinplot(x='All', y='Age_y', data=df_age, hue=outcome, split=True)\n",
    "    ax1.minorticks_on()\n",
    "    ax1.xaxis.set_minor_locator(AutoMinorLocator(2))\n",
    "    ax1.grid(which='minor', axis='x', linewidth=1)\n",
    "\n",
    "    plt.subplot(312) \n",
    "    ax1 = sns.barplot(x='All', y='Sex', data=df_sex, hue=outcome)\n",
    "    ax1.minorticks_on()\n",
    "    ax1.xaxis.set_minor_locator(AutoMinorLocator(2))\n",
    "    ax1.grid(which='minor', axis='x', linewidth=1)\n",
    "\n",
    "    plt.subplot(313) \n",
    "    ax1 = sns.countplot(x=outcome, data=df_age)\n",
    "\n",
    "    figure_name = 'violins' + '_' + outcome + '_' + 'covariates'\n",
    "    figure_ext = '.png'\n",
    "    plt.savefig(save_dir + figure_name + figure_ext)"
   ]
  },
  {
   "cell_type": "markdown",
   "id": "9ac359ba-7814-4b2a-8e84-83333a60d7f8",
   "metadata": {},
   "source": [
    "Note to Joy:\n",
    "\n",
    "Below is used to compute and graph the assymetry. "
   ]
  },
  {
   "cell_type": "code",
   "execution_count": null,
   "id": "20f013aa-b2bc-4e69-acf7-3d3edc03622e",
   "metadata": {},
   "outputs": [],
   "source": [
    "def calculateAsym(pdata):\n",
    "    #Calculate the asymmetries\n",
    "    #Note: metrics are written the same as it is in the csv and the tract names are from the above substitutions made\n",
    "    metrics = ['ad', 'md', 'fa', 'rd', 'mean_length(mm)', 'span(mm)', 'volume(mm^3)', 'number_of_tracts']\n",
    "    bilateral_tracts = ['CNGLM_PRHP', 'CST', 'IFOF', 'IFL']\n",
    "    for btract in bilateral_tracts:\n",
    "        for metric in metrics:\n",
    "            pdata[f'{btract}_asym.{metric}'] = abs(pdata[f'{btract}_L.{metric}'] - pdata[f'{btract}_R.{metric}']) \n",
    "    pdata.sample()\n",
    "    return pdata"
   ]
  },
  {
   "cell_type": "code",
   "execution_count": null,
   "id": "d4f46e5c-dc59-4aa5-a8d1-ce2701530c70",
   "metadata": {},
   "outputs": [],
   "source": [
    "def getVolAsym(pdata):\n",
    "    #filter only tract volumes asymmetries\n",
    "    tract_volumes_asym = re.compile(r'_asym[.]volume\\(mm\\^3\\)$')\n",
    "    filtered = list(filter(tract_volumes_asym.search, pdata.columns))\n",
    "    #print(filtered)\n",
    "\n",
    "    ### USE MELT TO CONVERT FROM WIDE TO LONG FORM\n",
    "    df_vol_asym = pd.melt(pdata, id_vars=['id', outcome], value_vars=filtered, var_name='Tract', value_name='DiffInVolume') \n",
    "    df_vol_asym['Tract'] = df_vol_asym['Tract'].str.strip('_asym.volume(mm^3)')\n",
    "    df_vol_asym = df_vol_asym.dropna()\n",
    "    df_vol_asym.head()\n",
    "    return df_vol_asym"
   ]
  },
  {
   "cell_type": "code",
   "execution_count": null,
   "id": "1493929e-f988-4bb6-909b-4629556b3b9c",
   "metadata": {},
   "outputs": [],
   "source": [
    "def getLenAsym(pdata):\n",
    "    #filter only tract length asymmetries\n",
    "    tract_lens_asym = re.compile(r'_asym[.]mean_length\\(mm\\)$')\n",
    "    filtered = list(filter(tract_lens_asym.search, pdata.columns))\n",
    "    #print(filtered)\n",
    "\n",
    "    ### USE MELT TO CONVERT FROM WIDE TO LONG FORM\n",
    "    df_len_asym = pd.melt(pdata, id_vars=['id', outcome], value_vars=filtered, var_name='Tract', value_name='DiffInLength') \n",
    "    df_len_asym['Tract'] = df_len_asym['Tract'].str.strip('_asym.mean_length(mm)')\n",
    "    df_len_asym = df_len_asym.dropna()\n",
    "    df_len_asym.head()\n",
    "    return df_len_asym"
   ]
  },
  {
   "cell_type": "code",
   "execution_count": null,
   "id": "b4a88098-db0c-4959-9acb-a07436c02509",
   "metadata": {},
   "outputs": [],
   "source": [
    "def getSpanAsym(pdata):\n",
    "    #filter only tract span asymmetries\n",
    "    tract_span_asym = re.compile(r'_asym[.]span\\(mm\\)$')\n",
    "    filtered = list(filter(tract_span_asym.search, pdata.columns))\n",
    "    #print(filtered)\n",
    "\n",
    "    ### USE MELT TO CONVERT FROM WIDE TO LONG FORM\n",
    "    df_span_asym = pd.melt(pdata, id_vars=['id', outcome], value_vars=filtered, var_name='Tract', value_name='DiffInSpan') \n",
    "    df_span_asym['Tract'] = df_span_asym['Tract'].str.strip('_asym.span(mm)')\n",
    "    df_span_asym = df_span_asym.dropna()\n",
    "    df_span_asym.head()\n",
    "    return df_span_asym"
   ]
  },
  {
   "cell_type": "code",
   "execution_count": null,
   "id": "dec7927a-f426-4286-b45b-e52f5e8daac8",
   "metadata": {},
   "outputs": [],
   "source": [
    "def getNumTractsAsym(pdata):\n",
    "    #filter only tract number asymmetries\n",
    "    tract_numTracts_asym = re.compile(r'_asym[.]number_of_tracts$')\n",
    "    filtered = list(filter(tract_numTracts_asym.search, pdata.columns))\n",
    "    #print(filtered)\n",
    "\n",
    "    ### USE MELT TO CONVERT FROM WIDE TO LONG FORM\n",
    "    df_numTracts_asym = pd.melt(pdata, id_vars=['id', outcome], value_vars=filtered, var_name='Tract', value_name='DiffInNumTracts') \n",
    "    df_numTracts_asym['Tract'] = df_numTracts_asym['Tract'].str.strip('_asym.number_of_tracts')\n",
    "    df_numTracts_asym = df_numTracts_asym.dropna()\n",
    "    df_numTracts_asym.head()\n",
    "    return df_numTracts_asym"
   ]
  },
  {
   "cell_type": "code",
   "execution_count": null,
   "id": "0f455739-ea2c-4bac-a7fd-87c5ac3e9f7b",
   "metadata": {},
   "outputs": [],
   "source": [
    "def getFAAsym(pdata):\n",
    "    #filter only tract FA asymmetries\n",
    "    tract_fa_asym= re.compile(r'_asym[.]fa$')\n",
    "    filtered = list(filter(tract_fa_asym.search, pdata.columns))\n",
    "    #print(filtered)\n",
    "\n",
    "    ### USE MELT TO CONVERT FROM WIDE TO LONG FORM\n",
    "    df_fa_asym = pd.melt(pdata, id_vars=['id', outcome], value_vars=filtered, var_name='Tract', value_name='DiffInFA') \n",
    "    df_fa_asym['Tract'] = df_fa_asym['Tract'].str.strip('_asym.fa')\n",
    "    df_fa_asym = df_fa_asym.dropna()\n",
    "    df_fa_asym.head()\n",
    "    return df_fa_asym"
   ]
  },
  {
   "cell_type": "code",
   "execution_count": null,
   "id": "21aac294-162a-43dc-847f-5fc236c0f8a4",
   "metadata": {},
   "outputs": [],
   "source": [
    "def getMDAsym(pdata):\n",
    "    #filter only tract MD asymmetries\n",
    "    tract_md_asym= re.compile(r'_asym[.]md$')\n",
    "    filtered = list(filter(tract_md_asym.search, pdata.columns))\n",
    "    #print(filtered)\n",
    "\n",
    "    ### USE MELT TO CONVERT FROM WIDE TO LONG FORM\n",
    "    df_md_asym = pd.melt(pdata, id_vars=['id', outcome], value_vars=filtered, var_name='Tract', value_name='DiffInMD') \n",
    "    df_md_asym['Tract'] = df_md_asym['Tract'].str.strip('_asym.md')\n",
    "    df_md_asym = df_md_asym.dropna()\n",
    "    df_md_asym.head()\n",
    "    return df_md_asym"
   ]
  },
  {
   "cell_type": "code",
   "execution_count": null,
   "id": "5290ab01-d364-47aa-ac46-729544c0a8b9",
   "metadata": {},
   "outputs": [],
   "source": [
    "def getRDAsym(pdata):\n",
    "    #filter only tract RD asymmetries \n",
    "    tract_rd_asym= re.compile(r'_asym[.]rd$')\n",
    "    filtered = list(filter(tract_rd_asym.search, pdata.columns))\n",
    "    #print(filtered)\n",
    "\n",
    "    ### USE MELT TO CONVERT FROM WIDE TO LONG FORM\n",
    "    df_rd_asym = pd.melt(pdata, id_vars=['id', outcome], value_vars=filtered, var_name='Tract', value_name='DiffInRD') \n",
    "    df_rd_asym['Tract'] = df_rd_asym['Tract'].str.strip('_asym.rd')\n",
    "    df_rd_asym = df_rd_asym.dropna()\n",
    "    df_rd_asym.head()\n",
    "    return df_rd_asym\n",
    " "
   ]
  },
  {
   "cell_type": "code",
   "execution_count": null,
   "id": "4e790ea1-481a-48ad-a167-2f84d5ae9bd6",
   "metadata": {},
   "outputs": [],
   "source": [
    "def getADAsym(pdata):\n",
    "    #filter only tract AD asymmetries\n",
    "    tract_ad_asym= re.compile(r'_asym[.]ad$')\n",
    "    filtered = list(filter(tract_ad_asym.search, pdata.columns))\n",
    "    #print(filtered)\n",
    "\n",
    "    ### USE MELT TO CONVERT FROM WIDE TO LONG FORM\n",
    "    df_ad_asym = pd.melt(pdata, id_vars=['id', outcome], value_vars=filtered, var_name='Tract', value_name='DiffInAD') \n",
    "    df_ad_asym['Tract'] = df_ad_asym['Tract'].str.strip('_asym.ad')\n",
    "    df_ad_asym = df_ad_asym.dropna()\n",
    "    df_ad_asym.head()\n",
    "    return df_ad_asym"
   ]
  },
  {
   "cell_type": "code",
   "execution_count": null,
   "id": "e4447a16-5025-467f-9105-0306f916e05b",
   "metadata": {},
   "outputs": [],
   "source": [
    "def plotAsyms(src, save_dir, df_fa_asym, df_rd_asym, df_md_asym, df_vol_asym, df_len_asym, df_span_asym, df_numTracts_asym): \n",
    "    plt.style.use('ggplot')\n",
    "    fig = plt.figure(figsize=(20, 20))\n",
    "\n",
    "    plt.subplot(711) \n",
    "    ax1 = sns.violinplot(x='Tract', y='DiffInFA', data=df_fa_asym, hue=outcome, split=True)\n",
    "    ax1.minorticks_on()\n",
    "    ax1.xaxis.set_minor_locator(AutoMinorLocator(2))\n",
    "    ax1.grid(which='minor', axis='x', linewidth=1)\n",
    "\n",
    "    plt.subplot(712) \n",
    "    ax1 = sns.violinplot(x='Tract', y='DiffInRD', data=df_rd_asym, hue=outcome, split=True)\n",
    "    ax1.minorticks_on()\n",
    "    ax1.xaxis.set_minor_locator(AutoMinorLocator(2))\n",
    "    ax1.grid(which='minor', axis='x', linewidth=1)\n",
    "\n",
    "    plt.subplot(713) \n",
    "    ax1 = sns.violinplot(x='Tract', y='DiffInMD', data=df_md_asym, hue=outcome, split=True)\n",
    "    ax1.minorticks_on()\n",
    "    ax1.xaxis.set_minor_locator(AutoMinorLocator(2))\n",
    "    ax1.grid(which='minor', axis='x', linewidth=1)\n",
    "\n",
    "    plt.subplot(714) \n",
    "    ax1 = sns.violinplot(x='Tract', y='DiffInVolume', data=df_vol_asym, hue=outcome, split=True)\n",
    "    ax1.minorticks_on()\n",
    "    ax1.xaxis.set_minor_locator(AutoMinorLocator(2))\n",
    "    ax1.grid(which='minor', axis='x', linewidth=1)\n",
    "\n",
    "    plt.subplot(715) \n",
    "    ax1 = sns.violinplot(x='Tract', y='DiffInLength', data=df_len_asym, hue=outcome, split=True)\n",
    "    ax1.minorticks_on()\n",
    "    ax1.xaxis.set_minor_locator(AutoMinorLocator(2))\n",
    "    ax1.grid(which='minor', axis='x', linewidth=1)\n",
    "\n",
    "    plt.subplot(716) \n",
    "    ax1 = sns.violinplot(x='Tract', y='DiffInSpan', data=df_span_asym, hue=outcome, split=True)\n",
    "    ax1.minorticks_on()\n",
    "    ax1.xaxis.set_minor_locator(AutoMinorLocator(2))\n",
    "    ax1.grid(which='minor', axis='x', linewidth=1)\n",
    "\n",
    "    plt.subplot(717) \n",
    "    ax1 = sns.violinplot(x='Tract', y='DiffInNumTracts', data=df_numTracts_asym, hue=outcome, split=True)\n",
    "    ax1.minorticks_on()\n",
    "    ax1.xaxis.set_minor_locator(AutoMinorLocator(2))\n",
    "    ax1.grid(which='minor', axis='x', linewidth=1)\n",
    "\n",
    "    figure_name = 'violins_' + outcome + '_asym'\n",
    "    figure_ext = '.png'\n",
    "    plt.savefig(os.path.join(save_dir + figure_name + figure_ext))"
   ]
  },
  {
   "cell_type": "code",
   "execution_count": null,
   "id": "0f30300c-6a11-4c6a-8bb6-ea82604ed495",
   "metadata": {},
   "outputs": [],
   "source": [
    "def runAnalysis(src, save_dir): \n",
    "    pdata = getData(src) \n",
    "    \n",
    "    df_fa  = getFA(pdata)\n",
    "    df_rd  = getRD(pdata)\n",
    "    df_md  = getMD(pdata)\n",
    "    df_vol = getVols(pdata)\n",
    "    df_len = getMeanLengths(pdata)\n",
    "    plotViolins(src, save_dir, df_fa, df_rd, df_md, df_vol, df_len)\n",
    "    \n",
    "    \n",
    "    df_age = getAges(pdata)\n",
    "    df_sex = getSexes(pdata)\n",
    "    plotCovariates(src, save_dir, df_age, df_sex)\n",
    "    \n",
    "    \n",
    "    calculateAsym(pdata)\n",
    "    df_fa_asym        = getFAAsym(pdata)\n",
    "    df_rd_asym        = getRDAsym(pdata)\n",
    "    df_md_asym        = getMDAsym(pdata)\n",
    "    df_vol_asym       = getVolAsym(pdata)\n",
    "    df_len_asym       = getLenAsym(pdata)\n",
    "    df_span_asym      = getSpanAsym(pdata)\n",
    "    df_numTracts_asym = getNumTractsAsym(pdata)\n",
    "    plotAsyms(src, save_dir, df_fa_asym, df_rd_asym, df_md_asym, df_vol_asym, df_len_asym, df_span_asym, df_numTracts_asym) \n",
    "    "
   ]
  },
  {
   "cell_type": "code",
   "execution_count": null,
   "id": "eeceecb3-7afe-4a43-beca-cab3306fe06b",
   "metadata": {},
   "outputs": [],
   "source": [
    "base_dir = '/data/Reback-DTI/resources/'\n",
    "strat_dir = os.path.join(base_dir, 'strats','Eddy_corrected', 'nonadjusted')\n",
    "\n",
    "all_ages_dir = os.path.join(strat_dir, 'all_ages/')\n",
    "all_ages_src = os.path.join(all_ages_dir, 'all_ages.csv')\n",
    "age0_1_dir  = os.path.join(strat_dir, 'ages0_1/')\n",
    "age1_5_dir  = os.path.join(strat_dir, 'ages1_5/')\n",
    "age5__dir   = os.path.join(strat_dir, 'ages5_/')\n",
    "age1__dir   = os.path.join(strat_dir, 'ages1_/')\n",
    "age0_5_dir   = os.path.join(strat_dir, 'ages0_5/')\n",
    "age0_1_src  = os.path.join(age0_1_dir, 'ages0_1.csv')\n",
    "age1_5_src  = os.path.join(age1_5_dir, 'ages1_5.csv')\n",
    "age5__src   = os.path.join(age5__dir,   'ages5_.csv')\n",
    "age1__src   = os.path.join(age1__dir,   'ages1_.csv')\n",
    "age0_5_src   = os.path.join(age0_5_dir,   'ages0_5.csv')\n",
    "outcomes = ['pcpcgp_6mo', 'mortality_6mos']"
   ]
  },
  {
   "cell_type": "code",
   "execution_count": null,
   "id": "d95cca7e-168d-46d0-bbdf-afe6d8ab9c49",
   "metadata": {},
   "outputs": [],
   "source": [
    "outcome = outcomes[0]"
   ]
  },
  {
   "cell_type": "code",
   "execution_count": null,
   "id": "fd336cbb-7bcf-4a5a-a267-7963cf4ee71f",
   "metadata": {},
   "outputs": [],
   "source": [
    "pdata = getData(all_ages_src) \n",
    "df_fa = getFA(pdata)\n",
    "df_fa.head()"
   ]
  },
  {
   "cell_type": "code",
   "execution_count": null,
   "id": "e3537a15-862d-4a12-9ce3-2adf1ece698e",
   "metadata": {},
   "outputs": [],
   "source": [
    "runAnalysis(age0_5_src, age0_5_dir)"
   ]
  },
  {
   "cell_type": "code",
   "execution_count": null,
   "id": "774e7f4d-4cbb-446f-ad55-2589ed56eae3",
   "metadata": {},
   "outputs": [],
   "source": [
    "runAnalysis(all_ages_src, all_ages_dir)"
   ]
  },
  {
   "cell_type": "code",
   "execution_count": null,
   "id": "f67139b9-fb5b-4313-b7ad-be4e264e00a8",
   "metadata": {},
   "outputs": [],
   "source": [
    "runAnalysis(age0_1_src, age0_1_dir)"
   ]
  },
  {
   "cell_type": "code",
   "execution_count": null,
   "id": "3cca51f9-589d-42fa-81c7-2d4b5e7cbbcf",
   "metadata": {},
   "outputs": [],
   "source": [
    "runAnalysis(age1_5_src, age1_5_dir)"
   ]
  },
  {
   "cell_type": "code",
   "execution_count": null,
   "id": "1487136b-7052-41d0-a4a3-241480ccd3ad",
   "metadata": {},
   "outputs": [],
   "source": [
    "runAnalysis(age5__src, age5__dir)"
   ]
  },
  {
   "cell_type": "code",
   "execution_count": null,
   "id": "827a3fa8-fd23-4c40-ac52-28b4b5fde014",
   "metadata": {},
   "outputs": [],
   "source": [
    "runAnalysis(age1__src, age1__dir)"
   ]
  },
  {
   "cell_type": "code",
   "execution_count": null,
   "id": "e579e5d5-2710-4b10-b14a-c1d93cb8b3ce",
   "metadata": {},
   "outputs": [],
   "source": []
  },
  {
   "cell_type": "code",
   "execution_count": null,
   "id": "d7a496c7-c37a-4cfd-a502-9f055ff2f3ee",
   "metadata": {},
   "outputs": [],
   "source": [
    "pdata = getData(all_ages_src) \n",
    "fig = plt.figure(figsize =(10, 8))\n",
    "\n",
    "bp1 = plt.boxplot(pdata['Age_y'])\n",
    "\n",
    "bp1 = plt.boxplot(pdata['Age_y'])\n",
    "\n",
    "#bp2 = ax.boxplot()"
   ]
  },
  {
   "cell_type": "code",
   "execution_count": null,
   "id": "c8ce54ce-ffdd-4530-b5bc-59b76f5f31d1",
   "metadata": {},
   "outputs": [],
   "source": []
  }
 ],
 "metadata": {
  "kernelspec": {
   "display_name": "Python 3 (ipykernel)",
   "language": "python",
   "name": "python3"
  },
  "language_info": {
   "codemirror_mode": {
    "name": "ipython",
    "version": 3
   },
   "file_extension": ".py",
   "mimetype": "text/x-python",
   "name": "python",
   "nbconvert_exporter": "python",
   "pygments_lexer": "ipython3",
   "version": "3.8.13"
  }
 },
 "nbformat": 4,
 "nbformat_minor": 5
}
