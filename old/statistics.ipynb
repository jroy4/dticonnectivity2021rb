{
 "cells": [
  {
   "cell_type": "markdown",
   "id": "6942a100-26a0-4c43-84cb-f1b07557037b",
   "metadata": {},
   "source": [
    "[DEPRECATED]\n",
    "\n",
    "The results are outdated and the methods here are no longer need. Leaving for reference"
   ]
  },
  {
   "cell_type": "code",
   "execution_count": null,
   "id": "b4f41595-2d3d-4133-a146-ee3c32bb176e",
   "metadata": {},
   "outputs": [],
   "source": [
    "import csv\n",
    "import numpy as np\n",
    "import os\n",
    "import random as rd\n",
    "import re\n",
    "import pandas as pd\n",
    "import seaborn as sns\n",
    "import scipy.stats as stats"
   ]
  },
  {
   "cell_type": "code",
   "execution_count": null,
   "id": "bb1f2943-79f5-462d-80e2-5a628d1c1a31",
   "metadata": {},
   "outputs": [],
   "source": [
    "%pip install pingouin \n",
    "from pingouin import ancova\n",
    "from pingouin import anova"
   ]
  },
  {
   "cell_type": "code",
   "execution_count": null,
   "id": "3d018dd2-c575-4251-89de-40c45578f1d5",
   "metadata": {},
   "outputs": [],
   "source": [
    "os.chdir('/data/Reback-DTI/')"
   ]
  },
  {
   "cell_type": "code",
   "execution_count": null,
   "id": "19b856de-5d34-4afe-a878-feae5fde55ba",
   "metadata": {},
   "outputs": [],
   "source": []
  },
  {
   "cell_type": "code",
   "execution_count": null,
   "id": "9cca1b3b-4a5e-4ac8-b4a4-9d904f742aa1",
   "metadata": {},
   "outputs": [],
   "source": [
    "outcomes = ['pcpcgp_6mo', 'mortality_6mos']\n",
    "\n",
    "tracts = ['CNGLM_PRHP_L','CNGLM_PRHP_R', 'CST_L','CST_R', 'IFOF_L','IFOF_R', 'IFL_L','IFL_R', 'CCBody']\n",
    "measures = ['fa', 'rd', 'md', 'ad']\n",
    "\n",
    "agerange = ['all_ages','ages0_1','ages1_5', 'ages0_5']\n",
    "selected_agerange = agerange[0]\n",
    "\n",
    "datasrc = '/data/Reback-DTI/resources/strats/Eddy_corrected/nonadjusted/{}/{}.csv'.format(selected_agerange,selected_agerange)\n",
    "\n",
    "outputBaseDir = '/data/Reback-DTI/resources/result_stats/{}'.format(selected_agerange)\n",
    "anovaDir = os.path.join(outputBaseDir, 'anova')\n",
    "if not os.path.exists(anovaDir):\n",
    "    os.makedirs(anovaDir)\n",
    "ttestDir = os.path.join(outputBaseDir, 'ttest')\n",
    "if not os.path.exists(ttestDir):\n",
    "    os.makedirs(ttestDir)"
   ]
  },
  {
   "cell_type": "code",
   "execution_count": null,
   "id": "a2105beb-caf8-47ef-980b-efab97630abc",
   "metadata": {},
   "outputs": [],
   "source": [
    "def getData(src):\n",
    "    pdata = pd.read_csv(src)\n",
    "    pdata['id'] = pdata['StudyID'].map(str) + '_' + pdata['MR_num'].map(str) + '_' + pdata['Scan_num'].map(str)\n",
    "    #place_holder for future, won't currently delete anything probably\n",
    "    pdata = pdata.drop_duplicates(subset='id')  \n",
    "    pdata.head()\n",
    "    \n",
    "    #To make plot labels fit better\n",
    "    pdata.columns = pdata.columns.str.replace(r\"Cingulum_Parahippocampal\", \"CNGLM_PRHP\")\n",
    "    pdata.columns = pdata.columns.str.replace(r\"Corpus_Callosum_Body\", \"CCBody\")\n",
    "    pdata.columns = pdata.columns.str.replace(r\"Corticospinal_Tract\", \"CST\")\n",
    "    pdata.columns = pdata.columns.str.replace(r\"Inferior_Fronto_Occipital_Fasciculus\", \"IFOF\")\n",
    "    pdata.columns = pdata.columns.str.replace(r\"Inferior_Longitudinal_Fasciculus\", \"IFL\")\n",
    "    return pdata\n",
    "\n",
    "\n",
    "def getTractMeasure(pdata, outcome=outcomes[1],tract='', measure='fa'): #default is all tracts FA\n",
    "    tract_measure= re.compile(r''+tract+'.{}$'.format(measure))\n",
    "    filtered = list(filter(tract_measure.search, pdata.columns))\n",
    "    #print(filtered)\n",
    "\n",
    "    ### USE MELT TO CONVERT FROM WIDE TO LONG FORM\n",
    "    df_meas = pd.melt(pdata, id_vars=['id', outcome, 'AgeGroup', 'Sex'], value_vars=filtered, var_name='Tract', value_name='{}'.format(measure.upper())) \n",
    "    df_meas['Tract'] = df_meas['Tract'].str.strip('.{}'.format(measure))\n",
    "    df_meas = df_meas.dropna()\n",
    "    df_meas.head()\n",
    "    return df_meas \n",
    "\n"
   ]
  },
  {
   "cell_type": "markdown",
   "id": "c4c9b419-6c55-4fe0-b6be-67ae995c5acf",
   "metadata": {},
   "source": [
    "The following is to get ANOVA tables"
   ]
  },
  {
   "cell_type": "code",
   "execution_count": null,
   "id": "9050c6c1-4af0-4f52-976b-f5382825d386",
   "metadata": {},
   "outputs": [],
   "source": [
    "def getANOVA(datapd, measure=measures[0], outcome=outcomes[0]):\n",
    "    filename = \"{}_{}_agesexadjusted.txt\".format(measure, outcome)\n",
    "    filepath = os.path.join(anovaDir, filename)\n",
    "    f = open(filepath, \"w\")\n",
    "    for i in range(len(tracts)):\n",
    "        tract_measures = getTractMeasure(datapd, outcome, tracts[i], measure)\n",
    "        ancova_age = ancova(data=tract_measures, dv='{}'.format(measure.upper()), covar=['AgeGroup'], between=outcome)\n",
    "        ancova_agesex = ancova(data=tract_measures, dv='{}'.format(measure.upper()), covar=['AgeGroup', 'Sex'], between=outcome)\n",
    "\n",
    "        f.write('\\nTract: {}'.format(tracts[i]))\n",
    "\n",
    "        f.write('\\nOutcome {}: \\n'.format(outcome))\n",
    "        f.write(ancova_age.to_string()) \n",
    "        f.write('\\n- - - - - - - - - - - - - - - - - - - - - - - - - -')\n",
    "        f.write('\\nOutcome {}: \\n'.format(outcome))\n",
    "        f.write(ancova_agesex.to_string())\n",
    "\n",
    "        f.write('\\n___________________________________________________')\n",
    "        f.write('\\n')\n",
    "    f.close()\n",
    "    return filepath"
   ]
  },
  {
   "cell_type": "code",
   "execution_count": null,
   "id": "ca1416d0-69e5-4b63-a03b-8206d712bad4",
   "metadata": {},
   "outputs": [],
   "source": [
    "def getAllANOVAMeasures(datapd):\n",
    "    for i in outcomes:\n",
    "        for j in measures:\n",
    "            getANOVA(datapd, j, i)"
   ]
  },
  {
   "cell_type": "markdown",
   "id": "ac9615a9-b8c7-424f-a447-a54f2368feee",
   "metadata": {},
   "source": [
    "The following is to get T-Tests:"
   ]
  },
  {
   "cell_type": "code",
   "execution_count": null,
   "id": "11c4557c-062c-448a-baa0-7ddbb0009acd",
   "metadata": {},
   "outputs": [],
   "source": [
    "def makeEmptyResultsDf():\n",
    "    column_names = ['tract', 'outcome', 'measure', 'pvalue']\n",
    "    results_df = pd.DataFrame(columns = column_names)\n",
    "    return results_df"
   ]
  },
  {
   "cell_type": "code",
   "execution_count": null,
   "id": "3be3b75c-8bc9-48fb-8b18-4b09bb766554",
   "metadata": {},
   "outputs": [],
   "source": [
    "def getTtest_file(datapd, measure=measures[0], outcome=outcomes[0]):\n",
    "    filename = \"{}_{}_agesexadjusted.txt\".format(measure, outcome)\n",
    "    filepath = os.path.join(ttestDir, filename)\n",
    "    f = open(filepath, \"w\")\n",
    "    for i in range(len(tracts)):\n",
    "        tract_measures = getTractMeasure(datapd, outcome, tracts[i], measure)\n",
    "        outcome0 = tract_measures.loc[tract_measures[outcome] == 0 ]\n",
    "        outcome1 = tract_measures.loc[tract_measures[outcome] == 1 ]\n",
    "        result = stats.ttest_ind(outcome0[measure.upper()], outcome1[measure.upper()])\n",
    "\n",
    "        f.write('\\nTract: {}'.format(tracts[i]))\n",
    "        f.write('\\nOutcome {}: \\n'.format(outcome))\n",
    "        f.write(\"Statistic: {}, P-value: {}\".format(result.statistic, result.pvalue))\n",
    "        f.write('\\n___________________________________________________')\n",
    "        f.write('\\n')\n",
    "    f.close()\n",
    "    return filepath"
   ]
  },
  {
   "cell_type": "code",
   "execution_count": null,
   "id": "aad2268d-41bf-4ed3-b520-fc55c1bbd8ec",
   "metadata": {},
   "outputs": [],
   "source": [
    "def getTtest_df(datapd, results_df, measure=measures[0], outcome=outcomes[0]):    \n",
    "    for i in range(len(tracts)):\n",
    "        tract_measures = getTractMeasure(datapd, outcome, tracts[i], measure)\n",
    "        outcome0 = tract_measures.loc[tract_measures[outcome] == 0 ]\n",
    "        outcome1 = tract_measures.loc[tract_measures[outcome] == 1 ]\n",
    "        result = stats.ttest_ind(outcome0[measure.upper()], outcome1[measure.upper()])\n",
    "        row = {'tract': tracts[i], 'outcome': outcome, 'measure': measure, 'pvalue': result.pvalue}\n",
    "        results_df = results_df.append(row, ignore_index=True)\n",
    "    return results_df"
   ]
  },
  {
   "cell_type": "code",
   "execution_count": null,
   "id": "c35b1801-10b6-4305-9356-10792a07b9f6",
   "metadata": {},
   "outputs": [],
   "source": []
  },
  {
   "cell_type": "code",
   "execution_count": null,
   "id": "4bd34423-9e40-43d7-bbc9-078bb7ef49ac",
   "metadata": {},
   "outputs": [],
   "source": [
    "\n",
    "def getAllTtests_df(datapd):\n",
    "    results_df = makeEmptyResultsDf()\n",
    "    for i in outcomes:\n",
    "        for j in measures:\n",
    "            results_df = getTtest_df(datapd, results_df, j, i)\n",
    "    return results_df"
   ]
  },
  {
   "cell_type": "code",
   "execution_count": null,
   "id": "ba479c9f-482f-45a0-a4ef-14fcb70ebc98",
   "metadata": {},
   "outputs": [],
   "source": [
    "data = getData(datasrc)\n",
    "#getAllANOVAMeasures(data)\n",
    "results_df = getAllTtests_df(data)"
   ]
  },
  {
   "cell_type": "code",
   "execution_count": null,
   "id": "74a90220-a92a-40cd-aaf8-80aef84e814f",
   "metadata": {},
   "outputs": [],
   "source": [
    "results_df_pcpc = results_df.loc[results_df['outcome'] == outcomes[0]]\n",
    "results_wide = results_df_pcpc.pivot(index=['tract'], columns='measure', values='pvalue')\n",
    "results_wide"
   ]
  },
  {
   "cell_type": "code",
   "execution_count": null,
   "id": "c07509ba-b612-4eb7-8445-d9b2dd35b4fc",
   "metadata": {},
   "outputs": [],
   "source": [
    "filename = \"agesexadjusted_ttestresults.csv\"\n",
    "filepath = os.path.join(ttestDir, filename)\n",
    "results_df.to_csv(filepath, index=False, sep=',')"
   ]
  },
  {
   "cell_type": "code",
   "execution_count": null,
   "id": "b77dccf8-c836-45c8-9fe2-e64ef9cb8a7a",
   "metadata": {},
   "outputs": [],
   "source": []
  }
 ],
 "metadata": {
  "kernelspec": {
   "display_name": "Python 3 (ipykernel)",
   "language": "python",
   "name": "python3"
  },
  "language_info": {
   "codemirror_mode": {
    "name": "ipython",
    "version": 3
   },
   "file_extension": ".py",
   "mimetype": "text/x-python",
   "name": "python",
   "nbconvert_exporter": "python",
   "pygments_lexer": "ipython3",
   "version": "3.8.13"
  }
 },
 "nbformat": 4,
 "nbformat_minor": 5
}
