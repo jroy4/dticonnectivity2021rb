{
 "cells": [
  {
   "cell_type": "markdown",
   "id": "6942a100-26a0-4c43-84cb-f1b07557037b",
   "metadata": {},
   "source": [
    "[DEPRECATED]\n",
    "\n",
    "The results are outdated and the methods here are no longer need. Leaving for reference"
   ]
  },
  {
   "cell_type": "code",
   "execution_count": 1,
   "id": "b4f41595-2d3d-4133-a146-ee3c32bb176e",
   "metadata": {},
   "outputs": [],
   "source": [
    "import csv\n",
    "import numpy as np\n",
    "import os\n",
    "import random as rd\n",
    "import re\n",
    "import pandas as pd\n",
    "import seaborn as sns\n",
    "import scipy.stats as stats"
   ]
  },
  {
   "cell_type": "code",
   "execution_count": 2,
   "id": "bb1f2943-79f5-462d-80e2-5a628d1c1a31",
   "metadata": {},
   "outputs": [
    {
     "name": "stdout",
     "output_type": "stream",
     "text": [
      "\u001b[33mWARNING: The directory '/.cache/pip' or its parent directory is not owned or is not writable by the current user. The cache has been disabled. Check the permissions and owner of that directory. If executing pip with sudo, you should use sudo's -H flag.\u001b[0m\n",
      "Defaulting to user installation because normal site-packages is not writeable\n",
      "Requirement already satisfied: pingouin in /.local/lib/python3.6/site-packages (0.3.12)\n",
      "Requirement already satisfied: seaborn>=0.9.0 in /usr/local/lib/python3.6/dist-packages (from pingouin) (0.10.0)\n",
      "Requirement already satisfied: tabulate in /.local/lib/python3.6/site-packages (from pingouin) (0.8.9)\n",
      "Requirement already satisfied: matplotlib>=3.0.2 in /usr/local/lib/python3.6/dist-packages (from pingouin) (3.1.1)\n",
      "Requirement already satisfied: scikit-learn in /usr/local/lib/python3.6/dist-packages (from pingouin) (0.24.2)\n",
      "Requirement already satisfied: outdated in /.local/lib/python3.6/site-packages (from pingouin) (0.2.1)\n",
      "Requirement already satisfied: statsmodels>=0.10.0 in /.local/lib/python3.6/site-packages (from pingouin) (0.12.2)\n",
      "Requirement already satisfied: pandas-flavor>=0.1.2 in /.local/lib/python3.6/site-packages (from pingouin) (0.2.0)\n",
      "Requirement already satisfied: scipy>=1.3 in /usr/local/lib/python3.6/dist-packages (from pingouin) (1.4.1)\n",
      "Requirement already satisfied: numpy>=1.15 in /usr/local/lib/python3.6/dist-packages (from pingouin) (1.17.0)\n",
      "Requirement already satisfied: pandas>=0.24 in /usr/local/lib/python3.6/dist-packages (from pingouin) (1.1.5)\n",
      "Requirement already satisfied: cycler>=0.10 in /usr/local/lib/python3.6/dist-packages (from matplotlib>=3.0.2->pingouin) (0.10.0)\n",
      "Requirement already satisfied: pyparsing!=2.0.4,!=2.1.2,!=2.1.6,>=2.0.1 in /usr/local/lib/python3.6/dist-packages (from matplotlib>=3.0.2->pingouin) (2.4.7)\n",
      "Requirement already satisfied: kiwisolver>=1.0.1 in /usr/local/lib/python3.6/dist-packages (from matplotlib>=3.0.2->pingouin) (1.3.1)\n",
      "Requirement already satisfied: python-dateutil>=2.1 in /usr/local/lib/python3.6/dist-packages (from matplotlib>=3.0.2->pingouin) (2.8.1)\n",
      "Requirement already satisfied: six in /usr/local/lib/python3.6/dist-packages (from cycler>=0.10->matplotlib>=3.0.2->pingouin) (1.16.0)\n",
      "Requirement already satisfied: pytz>=2017.2 in /usr/local/lib/python3.6/dist-packages (from pandas>=0.24->pingouin) (2021.1)\n",
      "Requirement already satisfied: xarray in /usr/local/lib/python3.6/dist-packages (from pandas-flavor>=0.1.2->pingouin) (0.16.2)\n",
      "Requirement already satisfied: patsy>=0.5 in /usr/local/lib/python3.6/dist-packages (from statsmodels>=0.10.0->pingouin) (0.5.1)\n",
      "Requirement already satisfied: littleutils in /.local/lib/python3.6/site-packages (from outdated->pingouin) (0.2.2)\n",
      "Requirement already satisfied: requests in /usr/local/lib/python3.6/dist-packages (from outdated->pingouin) (2.25.1)\n",
      "Requirement already satisfied: certifi>=2017.4.17 in /usr/local/lib/python3.6/dist-packages (from requests->outdated->pingouin) (2021.5.30)\n",
      "Requirement already satisfied: urllib3<1.27,>=1.21.1 in /usr/local/lib/python3.6/dist-packages (from requests->outdated->pingouin) (1.26.6)\n",
      "Requirement already satisfied: chardet<5,>=3.0.2 in /usr/local/lib/python3.6/dist-packages (from requests->outdated->pingouin) (4.0.0)\n",
      "Requirement already satisfied: idna<3,>=2.5 in /usr/local/lib/python3.6/dist-packages (from requests->outdated->pingouin) (2.10)\n",
      "Requirement already satisfied: joblib>=0.11 in /usr/local/lib/python3.6/dist-packages (from scikit-learn->pingouin) (1.0.1)\n",
      "Requirement already satisfied: threadpoolctl>=2.0.0 in /usr/local/lib/python3.6/dist-packages (from scikit-learn->pingouin) (2.1.0)\n",
      "Requirement already satisfied: setuptools>=38.4 in /usr/local/lib/python3.6/dist-packages (from xarray->pandas-flavor>=0.1.2->pingouin) (57.0.0)\n",
      "\u001b[33mWARNING: You are using pip version 21.1.3; however, version 21.3.1 is available.\n",
      "You should consider upgrading via the '/usr/bin/python3 -m pip install --upgrade pip' command.\u001b[0m\n",
      "Note: you may need to restart the kernel to use updated packages.\n"
     ]
    },
    {
     "name": "stderr",
     "output_type": "stream",
     "text": [
      "/.local/lib/python3.6/site-packages/outdated/utils.py:18: OutdatedPackageWarning: The package pingouin is out of date. Your version is 0.3.12, the latest is 0.5.0.\n",
      "Set the environment variable OUTDATED_IGNORE=1 to disable these warnings.\n",
      "  **kwargs\n"
     ]
    }
   ],
   "source": [
    "%pip install pingouin \n",
    "from pingouin import ancova\n",
    "from pingouin import anova"
   ]
  },
  {
   "cell_type": "code",
   "execution_count": 3,
   "id": "3d018dd2-c575-4251-89de-40c45578f1d5",
   "metadata": {},
   "outputs": [],
   "source": [
    "os.chdir('/data/Reback-DTI/')"
   ]
  },
  {
   "cell_type": "code",
   "execution_count": null,
   "id": "19b856de-5d34-4afe-a878-feae5fde55ba",
   "metadata": {},
   "outputs": [],
   "source": []
  },
  {
   "cell_type": "code",
   "execution_count": 4,
   "id": "9cca1b3b-4a5e-4ac8-b4a4-9d904f742aa1",
   "metadata": {},
   "outputs": [],
   "source": [
    "outcomes = ['pcpcgp_6mo', 'mortality_6mos']\n",
    "\n",
    "tracts = ['CNGLM_PRHP_L','CNGLM_PRHP_R', 'CST_L','CST_R', 'IFOF_L','IFOF_R', 'IFL_L','IFL_R', 'CCBody']\n",
    "measures = ['fa', 'rd', 'md', 'ad']\n",
    "\n",
    "agerange = ['all_ages','ages0_1','ages1_5', 'ages0_5']\n",
    "selected_agerange = agerange[0]\n",
    "\n",
    "datasrc = '/data/Reback-DTI/resources/strats/Eddy_corrected/nonadjusted/{}/{}.csv'.format(selected_agerange,selected_agerange)\n",
    "\n",
    "outputBaseDir = '/data/Reback-DTI/resources/result_stats/{}'.format(selected_agerange)\n",
    "anovaDir = os.path.join(outputBaseDir, 'anova')\n",
    "if not os.path.exists(anovaDir):\n",
    "    os.makedirs(anovaDir)\n",
    "ttestDir = os.path.join(outputBaseDir, 'ttest')\n",
    "if not os.path.exists(ttestDir):\n",
    "    os.makedirs(ttestDir)"
   ]
  },
  {
   "cell_type": "code",
   "execution_count": 5,
   "id": "a2105beb-caf8-47ef-980b-efab97630abc",
   "metadata": {},
   "outputs": [],
   "source": [
    "def getData(src):\n",
    "    pdata = pd.read_csv(src)\n",
    "    pdata['id'] = pdata['StudyID'].map(str) + '_' + pdata['MR_num'].map(str) + '_' + pdata['Scan_num'].map(str)\n",
    "    #place_holder for future, won't currently delete anything probably\n",
    "    pdata = pdata.drop_duplicates(subset='id')  \n",
    "    pdata.head()\n",
    "    \n",
    "    #To make plot labels fit better\n",
    "    pdata.columns = pdata.columns.str.replace(r\"Cingulum_Parahippocampal\", \"CNGLM_PRHP\")\n",
    "    pdata.columns = pdata.columns.str.replace(r\"Corpus_Callosum_Body\", \"CCBody\")\n",
    "    pdata.columns = pdata.columns.str.replace(r\"Corticospinal_Tract\", \"CST\")\n",
    "    pdata.columns = pdata.columns.str.replace(r\"Inferior_Fronto_Occipital_Fasciculus\", \"IFOF\")\n",
    "    pdata.columns = pdata.columns.str.replace(r\"Inferior_Longitudinal_Fasciculus\", \"IFL\")\n",
    "    return pdata\n",
    "\n",
    "\n",
    "def getTractMeasure(pdata, outcome=outcomes[1],tract='', measure='fa'): #default is all tracts FA\n",
    "    tract_measure= re.compile(r''+tract+'.{}$'.format(measure))\n",
    "    filtered = list(filter(tract_measure.search, pdata.columns))\n",
    "    #print(filtered)\n",
    "\n",
    "    ### USE MELT TO CONVERT FROM WIDE TO LONG FORM\n",
    "    df_meas = pd.melt(pdata, id_vars=['id', outcome, 'AgeGroup', 'Sex'], value_vars=filtered, var_name='Tract', value_name='{}'.format(measure.upper())) \n",
    "    df_meas['Tract'] = df_meas['Tract'].str.strip('.{}'.format(measure))\n",
    "    df_meas = df_meas.dropna()\n",
    "    df_meas.head()\n",
    "    return df_meas \n",
    "\n"
   ]
  },
  {
   "cell_type": "markdown",
   "id": "c4c9b419-6c55-4fe0-b6be-67ae995c5acf",
   "metadata": {},
   "source": [
    "The following is to get ANOVA tables"
   ]
  },
  {
   "cell_type": "code",
   "execution_count": 6,
   "id": "9050c6c1-4af0-4f52-976b-f5382825d386",
   "metadata": {},
   "outputs": [],
   "source": [
    "def getANOVA(datapd, measure=measures[0], outcome=outcomes[0]):\n",
    "    filename = \"{}_{}_agesexadjusted.txt\".format(measure, outcome)\n",
    "    filepath = os.path.join(anovaDir, filename)\n",
    "    f = open(filepath, \"w\")\n",
    "    for i in range(len(tracts)):\n",
    "        tract_measures = getTractMeasure(datapd, outcome, tracts[i], measure)\n",
    "        ancova_age = ancova(data=tract_measures, dv='{}'.format(measure.upper()), covar=['AgeGroup'], between=outcome)\n",
    "        ancova_agesex = ancova(data=tract_measures, dv='{}'.format(measure.upper()), covar=['AgeGroup', 'Sex'], between=outcome)\n",
    "\n",
    "        f.write('\\nTract: {}'.format(tracts[i]))\n",
    "\n",
    "        f.write('\\nOutcome {}: \\n'.format(outcome))\n",
    "        f.write(ancova_age.to_string()) \n",
    "        f.write('\\n- - - - - - - - - - - - - - - - - - - - - - - - - -')\n",
    "        f.write('\\nOutcome {}: \\n'.format(outcome))\n",
    "        f.write(ancova_agesex.to_string())\n",
    "\n",
    "        f.write('\\n___________________________________________________')\n",
    "        f.write('\\n')\n",
    "    f.close()\n",
    "    return filepath"
   ]
  },
  {
   "cell_type": "code",
   "execution_count": 7,
   "id": "ca1416d0-69e5-4b63-a03b-8206d712bad4",
   "metadata": {},
   "outputs": [],
   "source": [
    "def getAllANOVAMeasures(datapd):\n",
    "    for i in outcomes:\n",
    "        for j in measures:\n",
    "            getANOVA(datapd, j, i)"
   ]
  },
  {
   "cell_type": "markdown",
   "id": "ac9615a9-b8c7-424f-a447-a54f2368feee",
   "metadata": {},
   "source": [
    "The following is to get T-Tests:"
   ]
  },
  {
   "cell_type": "code",
   "execution_count": 8,
   "id": "11c4557c-062c-448a-baa0-7ddbb0009acd",
   "metadata": {},
   "outputs": [],
   "source": [
    "def makeEmptyResultsDf():\n",
    "    column_names = ['tract', 'outcome', 'measure', 'pvalue']\n",
    "    results_df = pd.DataFrame(columns = column_names)\n",
    "    return results_df"
   ]
  },
  {
   "cell_type": "code",
   "execution_count": 9,
   "id": "3be3b75c-8bc9-48fb-8b18-4b09bb766554",
   "metadata": {},
   "outputs": [],
   "source": [
    "def getTtest_file(datapd, measure=measures[0], outcome=outcomes[0]):\n",
    "    filename = \"{}_{}_agesexadjusted.txt\".format(measure, outcome)\n",
    "    filepath = os.path.join(ttestDir, filename)\n",
    "    f = open(filepath, \"w\")\n",
    "    for i in range(len(tracts)):\n",
    "        tract_measures = getTractMeasure(datapd, outcome, tracts[i], measure)\n",
    "        outcome0 = tract_measures.loc[tract_measures[outcome] == 0 ]\n",
    "        outcome1 = tract_measures.loc[tract_measures[outcome] == 1 ]\n",
    "        result = stats.ttest_ind(outcome0[measure.upper()], outcome1[measure.upper()])\n",
    "\n",
    "        f.write('\\nTract: {}'.format(tracts[i]))\n",
    "        f.write('\\nOutcome {}: \\n'.format(outcome))\n",
    "        f.write(\"Statistic: {}, P-value: {}\".format(result.statistic, result.pvalue))\n",
    "        f.write('\\n___________________________________________________')\n",
    "        f.write('\\n')\n",
    "    f.close()\n",
    "    return filepath"
   ]
  },
  {
   "cell_type": "code",
   "execution_count": 10,
   "id": "aad2268d-41bf-4ed3-b520-fc55c1bbd8ec",
   "metadata": {},
   "outputs": [],
   "source": [
    "def getTtest_df(datapd, results_df, measure=measures[0], outcome=outcomes[0]):    \n",
    "    for i in range(len(tracts)):\n",
    "        tract_measures = getTractMeasure(datapd, outcome, tracts[i], measure)\n",
    "        outcome0 = tract_measures.loc[tract_measures[outcome] == 0 ]\n",
    "        outcome1 = tract_measures.loc[tract_measures[outcome] == 1 ]\n",
    "        result = stats.ttest_ind(outcome0[measure.upper()], outcome1[measure.upper()])\n",
    "        row = {'tract': tracts[i], 'outcome': outcome, 'measure': measure, 'pvalue': result.pvalue}\n",
    "        results_df = results_df.append(row, ignore_index=True)\n",
    "    return results_df"
   ]
  },
  {
   "cell_type": "code",
   "execution_count": null,
   "id": "c35b1801-10b6-4305-9356-10792a07b9f6",
   "metadata": {},
   "outputs": [],
   "source": []
  },
  {
   "cell_type": "code",
   "execution_count": 11,
   "id": "4bd34423-9e40-43d7-bbc9-078bb7ef49ac",
   "metadata": {},
   "outputs": [],
   "source": [
    "\n",
    "def getAllTtests_df(datapd):\n",
    "    results_df = makeEmptyResultsDf()\n",
    "    for i in outcomes:\n",
    "        for j in measures:\n",
    "            results_df = getTtest_df(datapd, results_df, j, i)\n",
    "    return results_df"
   ]
  },
  {
   "cell_type": "code",
   "execution_count": 12,
   "id": "ba479c9f-482f-45a0-a4ef-14fcb70ebc98",
   "metadata": {},
   "outputs": [],
   "source": [
    "data = getData(datasrc)\n",
    "#getAllANOVAMeasures(data)\n",
    "results_df = getAllTtests_df(data)"
   ]
  },
  {
   "cell_type": "code",
   "execution_count": 13,
   "id": "74a90220-a92a-40cd-aaf8-80aef84e814f",
   "metadata": {},
   "outputs": [
    {
     "data": {
      "text/html": [
       "<div>\n",
       "<style scoped>\n",
       "    .dataframe tbody tr th:only-of-type {\n",
       "        vertical-align: middle;\n",
       "    }\n",
       "\n",
       "    .dataframe tbody tr th {\n",
       "        vertical-align: top;\n",
       "    }\n",
       "\n",
       "    .dataframe thead th {\n",
       "        text-align: right;\n",
       "    }\n",
       "</style>\n",
       "<table border=\"1\" class=\"dataframe\">\n",
       "  <thead>\n",
       "    <tr style=\"text-align: right;\">\n",
       "      <th>measure</th>\n",
       "      <th>ad</th>\n",
       "      <th>fa</th>\n",
       "      <th>md</th>\n",
       "      <th>rd</th>\n",
       "    </tr>\n",
       "    <tr>\n",
       "      <th>tract</th>\n",
       "      <th></th>\n",
       "      <th></th>\n",
       "      <th></th>\n",
       "      <th></th>\n",
       "    </tr>\n",
       "  </thead>\n",
       "  <tbody>\n",
       "    <tr>\n",
       "      <th>CCBody</th>\n",
       "      <td>0.186784</td>\n",
       "      <td>0.944321</td>\n",
       "      <td>0.349635</td>\n",
       "      <td>0.464125</td>\n",
       "    </tr>\n",
       "    <tr>\n",
       "      <th>CNGLM_PRHP_L</th>\n",
       "      <td>0.930993</td>\n",
       "      <td>0.480554</td>\n",
       "      <td>0.911594</td>\n",
       "      <td>0.829560</td>\n",
       "    </tr>\n",
       "    <tr>\n",
       "      <th>CNGLM_PRHP_R</th>\n",
       "      <td>0.957922</td>\n",
       "      <td>0.901846</td>\n",
       "      <td>0.905211</td>\n",
       "      <td>0.877902</td>\n",
       "    </tr>\n",
       "    <tr>\n",
       "      <th>CST_L</th>\n",
       "      <td>0.184905</td>\n",
       "      <td>0.590790</td>\n",
       "      <td>0.266368</td>\n",
       "      <td>0.321118</td>\n",
       "    </tr>\n",
       "    <tr>\n",
       "      <th>CST_R</th>\n",
       "      <td>0.303185</td>\n",
       "      <td>0.656724</td>\n",
       "      <td>0.369091</td>\n",
       "      <td>0.412123</td>\n",
       "    </tr>\n",
       "    <tr>\n",
       "      <th>IFL_L</th>\n",
       "      <td>0.226019</td>\n",
       "      <td>0.679478</td>\n",
       "      <td>0.414478</td>\n",
       "      <td>0.547148</td>\n",
       "    </tr>\n",
       "    <tr>\n",
       "      <th>IFL_R</th>\n",
       "      <td>0.138110</td>\n",
       "      <td>0.809752</td>\n",
       "      <td>0.221235</td>\n",
       "      <td>0.281958</td>\n",
       "    </tr>\n",
       "    <tr>\n",
       "      <th>IFOF_L</th>\n",
       "      <td>0.361850</td>\n",
       "      <td>0.973490</td>\n",
       "      <td>0.512030</td>\n",
       "      <td>0.604479</td>\n",
       "    </tr>\n",
       "    <tr>\n",
       "      <th>IFOF_R</th>\n",
       "      <td>0.155288</td>\n",
       "      <td>0.982814</td>\n",
       "      <td>0.281956</td>\n",
       "      <td>0.382049</td>\n",
       "    </tr>\n",
       "  </tbody>\n",
       "</table>\n",
       "</div>"
      ],
      "text/plain": [
       "measure             ad        fa        md        rd\n",
       "tract                                               \n",
       "CCBody        0.186784  0.944321  0.349635  0.464125\n",
       "CNGLM_PRHP_L  0.930993  0.480554  0.911594  0.829560\n",
       "CNGLM_PRHP_R  0.957922  0.901846  0.905211  0.877902\n",
       "CST_L         0.184905  0.590790  0.266368  0.321118\n",
       "CST_R         0.303185  0.656724  0.369091  0.412123\n",
       "IFL_L         0.226019  0.679478  0.414478  0.547148\n",
       "IFL_R         0.138110  0.809752  0.221235  0.281958\n",
       "IFOF_L        0.361850  0.973490  0.512030  0.604479\n",
       "IFOF_R        0.155288  0.982814  0.281956  0.382049"
      ]
     },
     "execution_count": 13,
     "metadata": {},
     "output_type": "execute_result"
    }
   ],
   "source": [
    "results_df_pcpc = results_df.loc[results_df['outcome'] == outcomes[0]]\n",
    "results_wide = results_df_pcpc.pivot(index=['tract'], columns='measure', values='pvalue')\n",
    "results_wide"
   ]
  },
  {
   "cell_type": "code",
   "execution_count": 14,
   "id": "c07509ba-b612-4eb7-8445-d9b2dd35b4fc",
   "metadata": {},
   "outputs": [],
   "source": [
    "filename = \"agesexadjusted_ttestresults.csv\"\n",
    "filepath = os.path.join(ttestDir, filename)\n",
    "results_df.to_csv(filepath, index=False, sep=',')"
   ]
  },
  {
   "cell_type": "code",
   "execution_count": null,
   "id": "b77dccf8-c836-45c8-9fe2-e64ef9cb8a7a",
   "metadata": {},
   "outputs": [],
   "source": []
  }
 ],
 "metadata": {
  "kernelspec": {
   "display_name": "Python 3 (ipykernel)",
   "language": "python",
   "name": "python3"
  },
  "language_info": {
   "codemirror_mode": {
    "name": "ipython",
    "version": 3
   },
   "file_extension": ".py",
   "mimetype": "text/x-python",
   "name": "python",
   "nbconvert_exporter": "python",
   "pygments_lexer": "ipython3",
   "version": "3.8.13"
  }
 },
 "nbformat": 4,
 "nbformat_minor": 5
}
